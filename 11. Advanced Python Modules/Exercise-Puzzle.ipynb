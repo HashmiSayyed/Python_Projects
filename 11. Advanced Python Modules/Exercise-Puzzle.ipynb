{
 "cells": [
  {
   "cell_type": "code",
   "execution_count": 40,
   "id": "8a626bff",
   "metadata": {},
   "outputs": [],
   "source": [
    "import os\n",
    "import re"
   ]
  },
  {
   "cell_type": "code",
   "execution_count": 53,
   "id": "f03ab117",
   "metadata": {},
   "outputs": [
    {
     "name": "stdout",
     "output_type": "stream",
     "text": [
      "\n",
      "we are in extracted_content folder\n",
      "\n",
      "Subfolders:\n",
      "\t Five\n",
      "\t Four\n",
      "\t One\n",
      "\t Three\n",
      "\t Two\n",
      "Files:\n",
      "\n",
      "we are in extracted_content\\Five folder\n",
      "\n",
      "Subfolders:\n",
      "Files:\n",
      "\n",
      "we are in extracted_content\\Four folder\n",
      "\n",
      "Subfolders:\n",
      "Files:\n",
      "\n",
      "we are in extracted_content\\One folder\n",
      "\n",
      "Subfolders:\n",
      "Files:\n",
      "\n",
      "we are in extracted_content\\Three folder\n",
      "\n",
      "Subfolders:\n",
      "Files:\n",
      "\n",
      "we are in extracted_content\\Two folder\n",
      "\n",
      "Subfolders:\n",
      "Files:\n"
     ]
    }
   ],
   "source": [
    "for fo, sf, file in os.walk(\"extracted_content\"):\n",
    "    print(f\"\\nwe are in {fo} folder\")\n",
    "    \n",
    "    print(\"\\nSubfolders:\")\n",
    "    for s in sf:\n",
    "        print(f\"\\t {s}\")\n",
    "        \n",
    "    print(\"Files:\")\n",
    "    for f in file:\n",
    "#         print(f\"\\t {f}\")\n",
    "        t = open(f,\"r\")\n",
    "        text  = t.read()\n",
    "        phone = re.findall(r\"\\d{3}-\\d{3}-\\d{4}\", text)\n",
    "        t.close()"
   ]
  },
  {
   "cell_type": "code",
   "execution_count": 55,
   "id": "5213ff56",
   "metadata": {},
   "outputs": [
    {
     "name": "stdout",
     "output_type": "stream",
     "text": [
      "[]\n"
     ]
    }
   ],
   "source": [
    "print(phone)"
   ]
  },
  {
   "cell_type": "code",
   "execution_count": null,
   "id": "cc4493d8",
   "metadata": {},
   "outputs": [],
   "source": []
  }
 ],
 "metadata": {
  "kernelspec": {
   "display_name": "Python 3 (ipykernel)",
   "language": "python",
   "name": "python3"
  },
  "language_info": {
   "codemirror_mode": {
    "name": "ipython",
    "version": 3
   },
   "file_extension": ".py",
   "mimetype": "text/x-python",
   "name": "python",
   "nbconvert_exporter": "python",
   "pygments_lexer": "ipython3",
   "version": "3.9.7"
  }
 },
 "nbformat": 4,
 "nbformat_minor": 5
}
